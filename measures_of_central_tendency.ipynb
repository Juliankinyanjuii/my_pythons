{
 "cells": [
  {
   "cell_type": "code",
   "execution_count": 3,
   "metadata": {},
   "outputs": [
    {
     "data": {
      "text/plain": [
       "55.75"
      ]
     },
     "execution_count": 3,
     "metadata": {},
     "output_type": "execute_result"
    }
   ],
   "source": [
    "#mean\n",
    "list_1 = [50,51,52,53,54,56,57,58,5,61,63,65,66,66,67,68]\n",
    "mean = sum(list_1)/len(list_1)\n",
    "mean"
   ]
  },
  {
   "cell_type": "code",
   "execution_count": 5,
   "metadata": {},
   "outputs": [
    {
     "data": {
      "text/plain": [
       "16"
      ]
     },
     "execution_count": 5,
     "metadata": {},
     "output_type": "execute_result"
    }
   ],
   "source": [
    "#median\n",
    "list_1.sort()\n",
    "list_1\n",
    "len(list_1)"
   ]
  },
  {
   "cell_type": "code",
   "execution_count": null,
   "metadata": {},
   "outputs": [],
   "source": [
    "#getting absolute deviation mean using a for loop and a function\n",
    "def my_data( 20 ,21,22,23,24,25,26,27):\n"
   ]
  },
  {
   "cell_type": "code",
   "execution_count": 6,
   "metadata": {},
   "outputs": [
    {
     "name": "stdout",
     "output_type": "stream",
     "text": [
      "Mean Absolute Deviation: 2.5\n"
     ]
    }
   ],
   "source": [
    "def absolute_mean_deviation(data):\n",
    "    mean = sum(data) / len(data)  # Calculate the mean of the data\n",
    "    total_deviation = 0\n",
    "\n",
    "    # Calculate the absolute deviation using a for loop\n",
    "    for value in data:\n",
    "        total_deviation += abs(value - mean)\n",
    "\n",
    "        mean_deviation = total_deviation / len(data)  # Compute the mean absolute deviation\n",
    "    return mean_deviation\n",
    "\n",
    "# Example usage\n",
    "data_set = [20,21,22,23,24,25,26,27,28,29]\n",
    "result = absolute_mean_deviation(data_set)\n",
    "print(\"Mean Absolute Deviation:\", result)\n"
   ]
  },
  {
   "cell_type": "code",
   "execution_count": 18,
   "metadata": {},
   "outputs": [
    {
     "data": {
      "text/plain": [
       "2.5"
      ]
     },
     "execution_count": 18,
     "metadata": {},
     "output_type": "execute_result"
    }
   ],
   "source": [
    "#getting the absolute deviation mean using a function and a for loop\n",
    "def data(list):\n",
    "    mean = sum(list)/len(list)\n",
    "    absolute_deviation = 0\n",
    "    for num in list:\n",
    "        absolute_deviation+= abs(num - mean)\n",
    "        means_deviation = absolute_deviation/len(list)\n",
    "    return(means_deviation)\n",
    "\n",
    "       \n",
    "my_cents= [20,21,22,23,24,25,26,27,28,29]\n",
    "data(my_cents)"
   ]
  }
 ],
 "metadata": {
  "kernelspec": {
   "display_name": "base",
   "language": "python",
   "name": "python3"
  },
  "language_info": {
   "codemirror_mode": {
    "name": "ipython",
    "version": 3
   },
   "file_extension": ".py",
   "mimetype": "text/x-python",
   "name": "python",
   "nbconvert_exporter": "python",
   "pygments_lexer": "ipython3",
   "version": "3.12.7"
  }
 },
 "nbformat": 4,
 "nbformat_minor": 2
}
